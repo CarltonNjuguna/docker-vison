{
 "cells": [
  {
   "cell_type": "code",
   "execution_count": 1,
   "metadata": {},
   "outputs": [],
   "source": [
    "import cv2\n",
    "import pytesseract\n",
    "from PIL import Image\n",
    "\n",
    "def preprocess_image(image_path):\n",
    "    img = cv2.imread(image_path)\n",
    "    gray_img = cv2.cvtColor(img, cv2.COLOR_BGR2GRAY) #grayscale\n",
    "    _, thresh_img = cv2.threshold(gray_img, 128, 255, cv2.THRESH_BINARY | cv2.THRESH_OTSU)\n",
    "    kernel = cv2.getStructuringElement(cv2.MORPH_RECT, (3, 3))\n",
    "    dilated_img = cv2.dilate(thresh_img, kernel, iterations=1)\n",
    "\n",
    "    return dilated_img"
   ]
  },
  {
   "cell_type": "code",
   "execution_count": 2,
   "metadata": {},
   "outputs": [],
   "source": [
    "def recognize_text(image):\n",
    "    pil_img = Image.fromarray(cv2.cvtColor(image, cv2.COLOR_BGR2RGB))\n",
    "    text = pytesseract.image_to_string(pil_img)\n",
    "\n",
    "    return text.strip()"
   ]
  },
  {
   "cell_type": "code",
   "execution_count": 3,
   "metadata": {},
   "outputs": [
    {
     "name": "stdout",
     "output_type": "stream",
     "text": [
      "Recognized text: \n"
     ]
    }
   ],
   "source": [
    "\n",
    "image_path = '/home/cloud/Images/phoenix/test/ocr/P6240640.JPG'\n",
    "processed_image = preprocess_image(image_path)\n",
    "text = recognize_text(processed_image)\n",
    "print(f\"Recognized text: {text}\")"
   ]
  },
  {
   "cell_type": "code",
   "execution_count": 4,
   "metadata": {},
   "outputs": [
    {
     "name": "stdout",
     "output_type": "stream",
     "text": [
      "Recognized text:|  \n",
      "\f|\n"
     ]
    }
   ],
   "source": [
    "import cv2\n",
    "import pytesseract\n",
    "\n",
    "# Load the image\n",
    "img = cv2.imread('/home/cloud/Images/phoenix/test/ocr/P6240640.JPG')\n",
    "\n",
    "# Convert to grayscale\n",
    "gray = cv2.cvtColor(img, cv2.COLOR_BGR2GRAY)\n",
    "\n",
    "# Apply thresholding to isolate the object\n",
    "ret, thresh = cv2.threshold(gray, 100, 255, cv2.THRESH_BINARY_INV)\n",
    "\n",
    "# Find contours of the object\n",
    "contours, hierarchy = cv2.findContours(thresh, cv2.RETR_TREE, cv2.CHAIN_APPROX_SIMPLE)\n",
    "\n",
    "# Select the largest contour as the object of interest\n",
    "contour_sizes = [(cv2.contourArea(cnt), cnt) for cnt in contours]\n",
    "largest_contour = max(contour_sizes, key=lambda x: x[0])[1]\n",
    "\n",
    "# Extract the region of interest from the image\n",
    "x, y, w, h = cv2.boundingRect(largest_contour)\n",
    "roi = img[y:y+h, x:x+w]\n",
    "\n",
    "# Preprocess the ROI for OCR\n",
    "gray_roi = cv2.cvtColor(roi, cv2.COLOR_BGR2GRAY)\n",
    "gray_roi = cv2.medianBlur(gray_roi, 3)\n",
    "\n",
    "# Perform OCR using pytesseract\n",
    "text = pytesseract.image_to_string(gray_roi)\n",
    "\n",
    "# Print the extracted text\n",
    "print(f\"Recognized text:| {text}|\")"
   ]
  },
  {
   "cell_type": "code",
   "execution_count": 5,
   "metadata": {},
   "outputs": [],
   "source": [
    "import cv2\n",
    "import pytesseract\n",
    "from PIL import Image\n",
    "import os\n",
    "\n",
    "def preprocess_image(image_path):\n",
    "    image = cv2.imread(image_path)\n",
    "    gray_image = cv2.cvtColor(image, cv2.COLOR_BGR2GRAY)\n",
    "    _, threshold_image = cv2.threshold(gray_image, 0, 255, cv2.THRESH_BINARY_INV | cv2.THRESH_OTSU)\n",
    "    return threshold_image\n",
    "\n",
    "def extract_text_from_image(image_path):\n",
    "    preprocessed_image = preprocess_image(image_path)\n",
    "    text = pytesseract.image_to_string(preprocessed_image)\n",
    "    return text"
   ]
  },
  {
   "cell_type": "code",
   "execution_count": 6,
   "metadata": {},
   "outputs": [
    {
     "name": "stdout",
     "output_type": "stream",
     "text": [
      "Recognized text: \n"
     ]
    }
   ],
   "source": [
    "image_path = '/home/cloud/Images/phoenix/test/ocr/P6240640.JPG'\n",
    "processed_image = preprocess_image(image_path)\n",
    "text = recognize_text(processed_image)\n",
    "print(f\"Recognized text: {text}\")"
   ]
  },
  {
   "cell_type": "code",
   "execution_count": 7,
   "metadata": {},
   "outputs": [
    {
     "name": "stdout",
     "output_type": "stream",
     "text": [
      "Extracted text from /home/cloud/Images/phoenix/test/ocr/P6240640.JPG:|\n",
      " \n",
      "\f\n",
      "|\n",
      "Extracted text from /home/cloud/Images/phoenix/test/ocr/ocr.jpg:|\n",
      " \n",
      "\f\n",
      "|\n"
     ]
    }
   ],
   "source": [
    "import cv2\n",
    "import pytesseract\n",
    "from PIL import Image\n",
    "import os\n",
    "\n",
    "def preprocess_image(image_path):\n",
    "    image = cv2.imread(image_path)\n",
    "    gray_image = cv2.cvtColor(image, cv2.COLOR_BGR2GRAY)\n",
    "    _, threshold_image = cv2.threshold(gray_image, 0, 255, cv2.THRESH_BINARY_INV | cv2.THRESH_OTSU)\n",
    "    return threshold_image\n",
    "\n",
    "def extract_text_from_image(image_path):\n",
    "    preprocessed_image = preprocess_image(image_path)\n",
    "    text = pytesseract.image_to_string(preprocessed_image)\n",
    "    return text\n",
    "\n",
    "def main():\n",
    "    image_paths = [\n",
    "        '/home/cloud/Images/phoenix/test/ocr/P6240640.JPG',\n",
    "        '/home/cloud/Images/phoenix/test/ocr/ocr.jpg',\n",
    "        #'/home/cloud/Documents/phoenix/Capture d’écran du 2023-03-22 14-04-08.png',\n",
    "    ]\n",
    "\n",
    "    for image_path in image_paths:\n",
    "        if not os.path.exists(image_path):\n",
    "            print(f\"{image_path} does not exist.\")\n",
    "            continue\n",
    "\n",
    "        extracted_text = extract_text_from_image(image_path)\n",
    "        print(f\"Extracted text from {image_path}:|\\n{extracted_text}\\n|\")\n",
    "\n",
    "if __name__ == \"__main__\":\n",
    "    main()"
   ]
  },
  {
   "cell_type": "code",
   "execution_count": 8,
   "metadata": {},
   "outputs": [],
   "source": [
    "import cv2\n",
    "import pytesseract\n",
    "from PIL import Image\n",
    "import os\n",
    "\n",
    "def image(image_path):\n",
    "    # Charger l'image\n",
    "    img = cv2.imread(image_path, cv2.IMREAD_GRAYSCALE)\n",
    "\n",
    "    # Redimensionner l'image\n",
    "    img = cv2.resize(img, None, fx=2, fy=2, interpolation=cv2.INTER_CUBIC)\n",
    "\n",
    "    # Appliquer un seuillage adaptatif\n",
    "    img = cv2.adaptiveThreshold(img, 255, cv2.ADAPTIVE_THRESH_GAUSSIAN_C, cv2.THRESH_BINARY, 31, 2)\n",
    "\n",
    "    # Appliquer un flou médian\n",
    "    img = cv2.medianBlur(img, 3)\n",
    "\n",
    "    return img"
   ]
  },
  {
   "cell_type": "code",
   "execution_count": 9,
   "metadata": {},
   "outputs": [
    {
     "name": "stdout",
     "output_type": "stream",
     "text": [
      "Texte extrait:\n",
      "| \n",
      "\f|\n"
     ]
    }
   ],
   "source": [
    "image_path = \"/home/cloud/Images/phoenix/test/ocr/ocr.jpg\"\n",
    "#preprocessed_image = image(image_path)\n",
    "text = pytesseract.image_to_string(image_path)\n",
    "#text = pytesseract.image_to_string(preprocessed_image)\n",
    "#extracted_text = ocr_image(preprocessed_image)\n",
    "print(f\"Texte extrait:\\n|{text}|\")"
   ]
  },
  {
   "cell_type": "code",
   "execution_count": null,
   "metadata": {},
   "outputs": [],
   "source": []
  }
 ],
 "metadata": {
  "kernelspec": {
   "display_name": "Python 3",
   "language": "python",
   "name": "python3"
  },
  "language_info": {
   "codemirror_mode": {
    "name": "ipython",
    "version": 3
   },
   "file_extension": ".py",
   "mimetype": "text/x-python",
   "name": "python",
   "nbconvert_exporter": "python",
   "pygments_lexer": "ipython3",
   "version": "3.10.6"
  },
  "orig_nbformat": 4,
  "vscode": {
   "interpreter": {
    "hash": "916dbcbb3f70747c44a77c7bcd40155683ae19c65e1c03b4aa3499c5328201f1"
   }
  }
 },
 "nbformat": 4,
 "nbformat_minor": 2
}
